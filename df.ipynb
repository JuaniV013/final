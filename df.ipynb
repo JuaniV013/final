{
 "cells": [
  {
   "cell_type": "code",
   "execution_count": 4,
   "metadata": {},
   "outputs": [],
   "source": [
    "import pandas as pd\n",
    "\n",
    "pepe = {'hola' : [1, 2, 3, 4, 5],\n",
    "        'chau' : [6, 7, 8, 9, 10]}\n",
    "\n",
    "df = pd.DataFrame(pepe)"
   ]
  },
  {
   "cell_type": "code",
   "execution_count": 5,
   "metadata": {},
   "outputs": [
    {
     "data": {
      "text/html": [
       "<div>\n",
       "<style scoped>\n",
       "    .dataframe tbody tr th:only-of-type {\n",
       "        vertical-align: middle;\n",
       "    }\n",
       "\n",
       "    .dataframe tbody tr th {\n",
       "        vertical-align: top;\n",
       "    }\n",
       "\n",
       "    .dataframe thead th {\n",
       "        text-align: right;\n",
       "    }\n",
       "</style>\n",
       "<table border=\"1\" class=\"dataframe\">\n",
       "  <thead>\n",
       "    <tr style=\"text-align: right;\">\n",
       "      <th></th>\n",
       "      <th>hola</th>\n",
       "      <th>chau</th>\n",
       "    </tr>\n",
       "  </thead>\n",
       "  <tbody>\n",
       "    <tr>\n",
       "      <th>0</th>\n",
       "      <td>1</td>\n",
       "      <td>6</td>\n",
       "    </tr>\n",
       "    <tr>\n",
       "      <th>1</th>\n",
       "      <td>2</td>\n",
       "      <td>7</td>\n",
       "    </tr>\n",
       "    <tr>\n",
       "      <th>2</th>\n",
       "      <td>3</td>\n",
       "      <td>8</td>\n",
       "    </tr>\n",
       "    <tr>\n",
       "      <th>3</th>\n",
       "      <td>4</td>\n",
       "      <td>9</td>\n",
       "    </tr>\n",
       "    <tr>\n",
       "      <th>4</th>\n",
       "      <td>5</td>\n",
       "      <td>10</td>\n",
       "    </tr>\n",
       "  </tbody>\n",
       "</table>\n",
       "</div>"
      ],
      "text/plain": [
       "   hola  chau\n",
       "0     1     6\n",
       "1     2     7\n",
       "2     3     8\n",
       "3     4     9\n",
       "4     5    10"
      ]
     },
     "execution_count": 5,
     "metadata": {},
     "output_type": "execute_result"
    }
   ],
   "source": [
    "from fastapi import FastAPI\n",
    "\n",
    "# Aquí importaríamos el módulo que nos permita acceder a los datos de la empresa\n",
    "\n",
    "app = FastAPI()\n",
    "\n",
    "# Película con mayor duración\n",
    "@app.get(\"/max_duration/\")\n",
    "async def get_max_duration(release_year: int = None, ID: str = None, duration_type: str = None):\n",
    "    import mysql.connector\n",
    "    cnx = mysql.connector.connect(user='root', password='12345678', host='127.0.0.1', database='proyecto_individual')\n",
    "    cursor = cnx.cursor()\n",
    "\n",
    "    query = \"SELECT title, duration_int FROM tabla_union_prueba\"\n",
    "    filters = []\n",
    "\n",
    "    if release_year is not None:\n",
    "        filters.append(\"release_year = %s\")\n",
    "    if duration_type is not None:\n",
    "        filters.append(\"duration_type = %s\")\n",
    "    if ID is not None:\n",
    "        filters.append(\"ID LIKE %s\")\n",
    "\n",
    "    if len(filters) > 0:\n",
    "        query += \" WHERE \" + \" AND \".join(filters)\n",
    "\n",
    "    query += \" ORDER BY duration_int DESC LIMIT 1\"\n",
    "\n",
    "    filters\n",
    "\n",
    "    cursor.execute(query, (release_year, duration_type, ID))\n",
    "    result = cursor.fetchone()\n",
    "\n",
    "    cursor.close()\n",
    "    cnx.close()\n",
    "\n",
    "    return {\"title\": result[0], \"duration\": result[1]}\n",
    "\n"
   ]
  },
  {
   "cell_type": "code",
   "execution_count": 13,
   "metadata": {},
   "outputs": [
    {
     "name": "stderr",
     "output_type": "stream",
     "text": [
      "C:\\Users\\Lenovo\\AppData\\Local\\Temp\\ipykernel_22884\\436245319.py:11: UserWarning: pandas only supports SQLAlchemy connectable (engine/connection) or database string URI or sqlite3 DBAPI2 connection. Other DBAPI2 objects are not tested. Please consider using SQLAlchemy.\n",
      "  df = pd.read_sql_query(query, cnx)\n"
     ]
    },
    {
     "name": "stdout",
     "output_type": "stream",
     "text": [
      "    ID show_id     type                  title         director  \\\n",
      "0  ns1      s1    movie   dick johnson is dead  kirsten johnson   \n",
      "1  ns2      s2  tv show          blood & water                    \n",
      "2  ns3      s3  tv show              ganglands  julien leclercq   \n",
      "3  ns4      s4  tv show  jailbirds new orleans                    \n",
      "4  ns5      s5  tv show           kota factory                    \n",
      "\n",
      "                                                cast        Country  \\\n",
      "0                                                     united states   \n",
      "1  ama qamata, khosi ngema, gail mabalane, thaban...   south africa   \n",
      "2  sami bouajila, tracy gotoas, samuel jouy, nabi...                  \n",
      "3                                                                     \n",
      "4  mayur more, jitendra kumar, ranjan raj, alam k...          india   \n",
      "\n",
      "   Date_Added release_year rating  duration_int duration_type  \\\n",
      "0  2021-09-25         2020  pg-13            90           min   \n",
      "1  2021-09-24         2021  tv-ma             2        season   \n",
      "2  2021-09-24         2021  tv-ma             1        season   \n",
      "3  2021-09-24         2021  tv-ma             1        season   \n",
      "4  2021-09-24         2021  tv-ma             2        season   \n",
      "\n",
      "                                           listed_in  \\\n",
      "0                                      documentaries   \n",
      "1    international tv shows, tv dramas, tv mysteries   \n",
      "2  crime tv shows, international tv shows, tv act...   \n",
      "3                             docuseries, reality tv   \n",
      "4  international tv shows, romantic tv shows, tv ...   \n",
      "\n",
      "                                         description  \n",
      "0  as her father nears the end of his life, filmm...  \n",
      "1  after crossing paths at a party, a cape town t...  \n",
      "2  to protect his family from a powerful drug lor...  \n",
      "3  feuds, flirtations and toilet talk go down amo...  \n",
      "4  in a city of coaching centers known to train i...  \n"
     ]
    }
   ],
   "source": [
    "import mysql.connector\n",
    "import pandas as pd\n",
    "cnx = mysql.connector.connect(user='root', password='12345678', host='127.0.0.1', database='proyecto_individual')\n",
    "cursor = cnx.cursor()\n",
    "\n",
    "\n",
    "# Consulta en MySQL\n",
    "query = \"SELECT * FROM tabla_union_prueba\"\n",
    "\n",
    "# Ejecutar la consulta y almacenar los resultados en un dataframe\n",
    "df = pd.read_sql_query(query, cnx)\n",
    "\n",
    "# Mostrar los primeros 5 registros del dataframe\n",
    "print(df.head())"
   ]
  },
  {
   "cell_type": "code",
   "execution_count": 127,
   "metadata": {},
   "outputs": [],
   "source": [
    "df.to_csv('data.csv', index=False)"
   ]
  },
  {
   "cell_type": "code",
   "execution_count": 151,
   "metadata": {},
   "outputs": [],
   "source": [
    "import pandas as pd\n",
    "\n",
    "def get_max_duration(df, release_year=None, ID=None, duration_type=None):\n",
    "    \n",
    "    # Filtrar el DataFrame por año, plataforma y tipo de duración\n",
    "    if release_year:\n",
    "        df = df[df['release_year'] == release_year]\n",
    "    if ID:\n",
    "        df = df[df['ID'].str.contains(ID)]\n",
    "    if duration_type:\n",
    "        df = df[df['duration_type'] == duration_type]\n",
    "\n",
    "    # Ordenar el DataFrame por duración en orden descendente\n",
    "    df = df.sort_values(by=['duration_int'], ascending=False)\n",
    "\n",
    "    # Obtener la película con la mayor duración\n",
    "    max_duration = df.iloc[0,3]\n",
    "    \n",
    "    return max_duration\n"
   ]
  },
  {
   "cell_type": "code",
   "execution_count": 169,
   "metadata": {},
   "outputs": [
    {
     "data": {
      "text/plain": [
       "\"grey's anatomy\""
      ]
     },
     "execution_count": 169,
     "metadata": {},
     "output_type": "execute_result"
    }
   ],
   "source": [
    "def get_max_duration1(df, release_year=None, platform=None, duration_type=None):\n",
    "    if release_year:\n",
    "        df = df[df['release_year'] == release_year]\n",
    "    if platform:\n",
    "        df = df[df['ID'].str.contains(platform)]\n",
    "    if duration_type:\n",
    "        df = df[df['duration_type'] == duration_type]\n",
    "    df = df.sort_values(by=['duration_int'], ascending=False)\n",
    "    max_duration_movie = df.iloc[0]\n",
    "    return max_duration_movie\n",
    "\n",
    "get_max_duration(df, '2020','n','season')"
   ]
  },
  {
   "cell_type": "code",
   "execution_count": 166,
   "metadata": {},
   "outputs": [
    {
     "data": {
      "text/plain": [
       "'night sky with nature sounds with 432hz nature sound track for sleep'"
      ]
     },
     "execution_count": 166,
     "metadata": {},
     "output_type": "execute_result"
    }
   ],
   "source": [
    "get_max_duration1(df, '2020', 'a', 'min')"
   ]
  }
 ],
 "metadata": {
  "kernelspec": {
   "display_name": "Python 3",
   "language": "python",
   "name": "python3"
  },
  "language_info": {
   "codemirror_mode": {
    "name": "ipython",
    "version": 3
   },
   "file_extension": ".py",
   "mimetype": "text/x-python",
   "name": "python",
   "nbconvert_exporter": "python",
   "pygments_lexer": "ipython3",
   "version": "3.10.10"
  },
  "orig_nbformat": 4,
  "vscode": {
   "interpreter": {
    "hash": "854ad7b50770bedaf0cab730b1aaabb765566ea98036f134b639e260bede141e"
   }
  }
 },
 "nbformat": 4,
 "nbformat_minor": 2
}
